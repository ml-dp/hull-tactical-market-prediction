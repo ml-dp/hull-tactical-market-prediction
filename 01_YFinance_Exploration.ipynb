{
 "cells": [
  {
   "cell_type": "markdown",
   "metadata": {},
   "source": [
    "# Phase 2: Deep Dive into yfinance API\n",
    "\n",
    "**Objective:** Exhaustively map out all the data points `yfinance` can provide for an asset like SPY. We won\'t limit ourselves to the obvious.\n",
    "\n",
    "**Actions:**\n",
    "1.  **Fix the `data_pipeline.py` Bug:** First, let\'s implement the fix for the `TypeError` we discovered.\n",
    "2.  **Explore the Ticker Object:** We will then systematically call every method on the `yf.Ticker(\'SPY\')` object to see the full range of available data, including financials, corporate actions, news, and more."
   ]
  },
  {
   "cell_type": "code",
   "execution_count": null,
   "metadata": {},
   "outputs": [],
   "source": [
    "import yfinance as yf\n",
    "import pandas as pd\n",
    "import logging\n",
    "\n",
    "logging.basicConfig(level=logging.INFO, format=\'%(asctime)s - %(levelname)s - %(message)s\')\n",
    "\n",
    "class PatchedLiveDataHandler:\n",
    "    def __init__(self, ticker: str = \"SPY\"):\n",
    "        self.ticker = ticker\n",
    "        self.tk = yf.Ticker(self.ticker)\n",
    "        self.data = None\n",
    "\n",
    "    def fetch_data(self, period: str = \"5y\", interval: str = \"1d\") -> pd.DataFrame:\n",
    "        logging.info(f\"Fetching {period} of {interval} data for {self.ticker}...\")\n",
    "        # FIX: Removed the unsupported 'progress' parameter\n",
    "        self.data = self.tk.history(period=period, interval=interval, auto_adjust=False)\n",
    "        if self.data.empty:\n",
    "            logging.error(f\"No data fetched for ticker {self.ticker}.\")\n",
    "            return pd.DataFrame()\n",
    "\n",
    "        self.data.columns = [str(col).lower().replace(\' \', \'_\') for col in self.data.columns]\n",
    "        logging.info(f\"Equity data fetched. Shape: {self.data.shape}\")\n",
    "        return self.data\n",
    "\n",
    "# Prove the fix works\n",
    "live_pipeline = PatchedLiveDataHandler(ticker=\"SPY\")\n",
    "live_data_raw = live_pipeline.fetch_data(period=\"1y\")\n",
    "print(\"Successfully fetched data using the patched handler:\")\n",
    "print(live_data_raw.head())"
   ]
  },
  {
   "cell_type": "markdown",
   "metadata": {},
   "source": [
    "## Exploring the `yf.Ticker` Object"
   ]
  },
  {
   "cell_type": "code",
   "execution_count": null,
   "metadata": {},
   "outputs": [],
   "source": [
    "spy = yf.Ticker(\'SPY\')\n",
    "\n",
    "# Systematically explore and print all available data points\n",
    "print(\"--- Ticker Info ---\")\n",
    "print(spy.info)\n",
    "\n",
    "print(\"--- Actions (Dividends, Splits) ---\")\n",
    "print(spy.actions.head())\n",
    "\n",
    "print(\"--- Financials ---\")\n",
    "print(spy.financials)\n",
    "\n",
    "print(\"--- Major Holders ---\")\n",
    "print(spy.major_holders)\n",
    "\n",
    "print(\"--- Institutional Holders ---\")\n",
    "print(spy.institutional_holders.head())\n",
    "\n",
    "print(\"--- Balance Sheet ---\")\n",
    "print(spy.balance_sheet)\n",
    "\n",
    "print(\"--- Cashflow ---\")\n",
    "print(spy.cashflow)\n",
    "\n",
    "print(\"--- Earnings ---\")\n",
    "print(spy.earnings)\n",
    "\n",
    "print(\"--- Analyst Recommendations ---\")\n",
    "print(spy.recommendations.tail())\n",
    "\n",
    "print(\"--- Calendar (Upcoming Events) ---\")\n",
    "print(spy.calendar)\n",
    "\n",
    "print(\"--- News ---\")\n",
    "for news_item in spy.news[:5]: # Print first 5 news items\n",
    "    print(f\"- {news_item[\'title\']}\")"
   ]
  }
 ]
}