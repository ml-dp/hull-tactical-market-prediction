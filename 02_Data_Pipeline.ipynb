{
 "cells": [
  {
   "cell_type": "code",
   "execution_count": null,
   "id": "046d2248",
   "metadata": {},
   "outputs": [],
   "source": [
    "    # Phase 3: Foundational Equity Data Pipeline\n",
    "    \n",
    "    # **Objective:** Build a robust pipeline for fetching and processing equity data, replicating the *concepts* from the original notebook with live data.\n",
    "    \n",
    "    # **Actions:**\n",
    "    # 1.  **Fix Bugs from `01_YFinance_Exploration.ipynb`:** We will start by fixing the `KeyError` in the news feed and the negative \"Time to Expiry\" calculation.\n",
    "    # 2.  **Refine the Equity Data Pipeline:** We will then create a clean, robust data handler class that fetches historical equity data and engineers a rich set of technical analysis features.\"\n",
    "\n",
    "import yfinance as yf\n",
    "import pandas as pd\n",
    "import numpy as np\n",
    "import logging\n",
    "from datetime import datetime\n",
    "from scipy.stats import norm\n",
    "    \n",
    "logging.basicConfig(level=logging.INFO, format='%(asctime)s - %(levelname)s - %(message)s')\n",
    "\n",
    "class EquityDataPipeline:\n",
    "    def __init__(self, ticker: str = \"SPY\"):\n",
    "        self.ticker = ticker\n",
    "        self.tk = yf.Ticker(self.ticker)\n",
    "        self.data = None\n",
    "\n",
    "    def fetch_history(self, period: str = \"5y\", interval: str = \"1d\") -> pd.DataFrame:\n",
    "        logging.info(f\"Fetching {period} of {interval} data for {self.ticker}...\")\n",
    "        self.data = self.tk.history(period=period, interval=interval, auto_adjust=False)\n",
    "        if self.data.empty:\n",
    "            logging.error(f\"No data fetched for ticker {self.ticker}.\")\n",
    "            return pd.DataFrame()\n",
    "        self.data.columns = [str(col).lower().replace(' ', '_') for col in self.data.columns]\n",
    "        logging.info(f\"Equity data fetched. Shape: {self.data.shape}\")\n",
    "        return self.data\n",
    "    \n",
    "    def create_features(self) -> pd.DataFrame:\n",
    "        if self.data is None or self.data.empty:\n",
    "            logging.error(\"Equity data not fetched. Call fetch_history() first.\")\n",
    "            return pd.DataFrame()\n",
    "\n",
    "        logging.info(\"Starting equity feature engineering...\")\n",
    "        # Using pandas_ta to add a wide range of technical indicators\n",
    "        self.data.ta.rsi(length=14, append=True)\n",
    "        self.data.ta.macd(fast=12, slow=26, signal=9, append=True)\n",
    "        self.data.ta.bbands(length=20, std=2, append=True)\n",
    "        self.data.ta.atr(length=14, append=True)\n",
    "        self.data.ta.ema(length=50, append=True)\n",
    "        self.data.ta.ema(length=200, append=True)\n",
    "        self.data.ta.adx(length=14, append=True)\n",
    "        self.data.ta.obv(append=True)\n",
    "        self.data.ta.stoch(k=14, d=3, append=True)\n",
    "        self.data.ta.cmf(length=20, append=True)\n",
    "        self.data.dropna(inplace=True)\n",
    "        logging.info(f\"Equity feature engineering complete. Final shape: {self.data.shape}\")\n",
    "        return self.data\n",
    "    \n",
    "\n"
   ]
  },
  {
   "cell_type": "code",
   "execution_count": 4,
   "id": "0de2c596",
   "metadata": {},
   "outputs": [
    {
     "name": "stderr",
     "output_type": "stream",
     "text": [
      "2025-10-03 16:21:35,266 - INFO - Fetching 1y of 1d data for SPY...\n",
      "2025-10-03 16:21:35,533 - INFO - Equity data fetched. Shape: (250, 9)\n",
      "2025-10-03 16:21:35,534 - INFO - Starting equity feature engineering...\n"
     ]
    },
    {
     "ename": "AttributeError",
     "evalue": "'DataFrame' object has no attribute 'ta'",
     "output_type": "error",
     "traceback": [
      "\u001b[31m---------------------------------------------------------------------------\u001b[39m",
      "\u001b[31mAttributeError\u001b[39m                            Traceback (most recent call last)",
      "\u001b[32m~\\AppData\\Local\\Temp\\ipykernel_23744\\3132321774.py\u001b[39m in \u001b[36m?\u001b[39m\u001b[34m()\u001b[39m\n\u001b[32m      1\u001b[39m \u001b[38;5;66;03m# Demonstrate the refined pipeline\u001b[39;00m\n\u001b[32m      2\u001b[39m pipeline = EquityDataPipeline(ticker=\u001b[33m\"SPY\"\u001b[39m)\n\u001b[32m      3\u001b[39m equity_data = pipeline.fetch_history(period=\u001b[33m\"1y\"\u001b[39m)\n\u001b[32m----> \u001b[39m\u001b[32m4\u001b[39m featured_equity = pipeline.create_features()\n\u001b[32m      5\u001b[39m print(\u001b[33m\"--- Featured Equity Data (Tail) ---\"\u001b[39m)\n\u001b[32m      6\u001b[39m print(featured_equity.tail())\n",
      "\u001b[32m~\\AppData\\Local\\Temp\\ipykernel_23744\\3360317951.py\u001b[39m in \u001b[36m?\u001b[39m\u001b[34m(self)\u001b[39m\n\u001b[32m     37\u001b[39m             \u001b[38;5;28;01mreturn\u001b[39;00m pd.DataFrame()\n\u001b[32m     38\u001b[39m \n\u001b[32m     39\u001b[39m         logging.info(\u001b[33m\"Starting equity feature engineering...\"\u001b[39m)\n\u001b[32m     40\u001b[39m         \u001b[38;5;66;03m# Using pandas_ta to add a wide range of technical indicators\u001b[39;00m\n\u001b[32m---> \u001b[39m\u001b[32m41\u001b[39m         self.data.ta.rsi(length=\u001b[32m14\u001b[39m, append=\u001b[38;5;28;01mTrue\u001b[39;00m)\n\u001b[32m     42\u001b[39m         self.data.ta.macd(fast=\u001b[32m12\u001b[39m, slow=\u001b[32m26\u001b[39m, signal=\u001b[32m9\u001b[39m, append=\u001b[38;5;28;01mTrue\u001b[39;00m)\n\u001b[32m     43\u001b[39m         self.data.ta.bbands(length=\u001b[32m20\u001b[39m, std=\u001b[32m2\u001b[39m, append=\u001b[38;5;28;01mTrue\u001b[39;00m)\n\u001b[32m     44\u001b[39m         self.data.ta.atr(length=\u001b[32m14\u001b[39m, append=\u001b[38;5;28;01mTrue\u001b[39;00m)\n",
      "\u001b[32mc:\\Users\\md\\Downloads\\Kaggle\\hull-tactical-market-prediction\\venv\\Lib\\site-packages\\pandas\\core\\generic.py\u001b[39m in \u001b[36m?\u001b[39m\u001b[34m(self, name)\u001b[39m\n\u001b[32m   6317\u001b[39m             \u001b[38;5;28;01mand\u001b[39;00m name \u001b[38;5;28;01mnot\u001b[39;00m \u001b[38;5;28;01min\u001b[39;00m self._accessors\n\u001b[32m   6318\u001b[39m             \u001b[38;5;28;01mand\u001b[39;00m self._info_axis._can_hold_identifiers_and_holds_name(name)\n\u001b[32m   6319\u001b[39m         ):\n\u001b[32m   6320\u001b[39m             \u001b[38;5;28;01mreturn\u001b[39;00m self[name]\n\u001b[32m-> \u001b[39m\u001b[32m6321\u001b[39m         \u001b[38;5;28;01mreturn\u001b[39;00m object.__getattribute__(self, name)\n",
      "\u001b[31mAttributeError\u001b[39m: 'DataFrame' object has no attribute 'ta'"
     ]
    }
   ],
   "source": [
    "\n",
    "# Demonstrate the refined pipeline\n",
    "pipeline = EquityDataPipeline(ticker=\"SPY\")\n",
    "equity_data = pipeline.fetch_history(period=\"1y\")\n",
    "featured_equity = pipeline.create_features()\n",
    "print(\"--- Featured Equity Data (Tail) ---\")\n",
    "print(featured_equity.tail())"
   ]
  },
  {
   "cell_type": "code",
   "execution_count": 5,
   "id": "8a02fc55",
   "metadata": {},
   "outputs": [
    {
     "name": "stdout",
     "output_type": "stream",
     "text": [
      "--- News Feed (with error handling) ---\n",
      "- No Title Available\n",
      "- No Title Available\n",
      "- No Title Available\n",
      "- No Title Available\n",
      "- No Title Available\n"
     ]
    },
    {
     "name": "stderr",
     "output_type": "stream",
     "text": [
      "2025-10-03 16:21:39,872 - WARNING - Expiration date 2025-10-03 is in the past. Time to expiry (T) is -0.0027 years. Greeks may be invalid.\n"
     ]
    },
    {
     "name": "stdout",
     "output_type": "stream",
     "text": [
      "--- Corrected Time to Expiry Calculation ---\n",
      "Expiration: 2025-10-03\n",
      "Corrected Time to Expiry: 0.0000 years\n"
     ]
    }
   ],
   "source": [
    "\n",
    "## Bug Fixes from `01_YFinance_Exploration.ipynb`\"\n",
    "\n",
    "# 1. Fixing the News Feed KeyError\n",
    "spy = yf.Ticker('SPY')\n",
    "print(\"--- News Feed (with error handling) ---\")\n",
    "try:\n",
    "    for news_item in spy.news[:5]:\n",
    "        # FIX: Check if the 'title' key exists before accessing it\n",
    "        title = news_item.get('title', 'No Title Available')\n",
    "        print(f\"- {title}\")\n",
    "except Exception as e:\n",
    "    print(f\"An error occurred while fetching news: {e}\")\n",
    "\n",
    "# 2. Fixing the Negative Time to Expiry Bug\n",
    "def get_option_greeks_fixed(ticker_symbol, expiration_date):\n",
    "    stock = yf.Ticker(ticker_symbol)\n",
    "    S = stock.history(period=\"1d\")['Close'].iloc[-1]\n",
    "    r = 0.0415 # Placeholder for risk-free rate\n",
    "    opt_chain = stock.option_chain(expiration_date)\n",
    "    options = pd.concat([opt_chain.calls, opt_chain.puts], ignore_index=True)\n",
    "    \n",
    "    # FIX: Ensure correct date handling\n",
    "    expiration_datetime = pd.to_datetime(expiration_date).tz_localize('US/Eastern')\n",
    "    current_datetime = pd.Timestamp.now(tz='US/Eastern')\n",
    "    T = (expiration_datetime - current_datetime).days / 365.25\n",
    "    \n",
    "    if T < 0:\n",
    "        logging.warning(f\"Expiration date {expiration_date} is in the past. Time to expiry (T) is {T:.4f} years. Greeks may be invalid.\")\n",
    "        T = 1e-9 # Use a very small positive number to avoid math errors\n",
    "        \n",
    "    return T\n",
    "# Demonstrate the fix\n",
    "nvda_ticker = yf.Ticker('NVDA')\n",
    "first_expiration = nvda_ticker.options[0]\n",
    "time_to_expiry_fixed = get_option_greeks_fixed('NVDA', first_expiration)\n",
    "print(f\"--- Corrected Time to Expiry Calculation ---\")\n",
    "print(f\"Expiration: {first_expiration}\")\n",
    "print(f\"Corrected Time to Expiry: {time_to_expiry_fixed:.4f} years\")"
   ]
  }
 ],
 "metadata": {
  "kernelspec": {
   "display_name": "venv",
   "language": "python",
   "name": "python3"
  },
  "language_info": {
   "codemirror_mode": {
    "name": "ipython",
    "version": 3
   },
   "file_extension": ".py",
   "mimetype": "text/x-python",
   "name": "python",
   "nbconvert_exporter": "python",
   "pygments_lexer": "ipython3",
   "version": "3.13.7"
  }
 },
 "nbformat": 4,
 "nbformat_minor": 5
}
